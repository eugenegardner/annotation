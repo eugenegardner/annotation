{
 "cells": [
  {
   "cell_type": "markdown",
   "metadata": {
    "collapsed": true,
    "pycharm": {
     "name": "#%% md\n"
    }
   },
   "source": [
    "# Comparing Reference Genomes\n",
    "\n",
    "First, check you are in the correct directory."
   ]
  },
  {
   "cell_type": "code",
   "execution_count": null,
   "outputs": [],
   "source": [
    "pwd"
   ],
   "metadata": {
    "collapsed": false,
    "pycharm": {
     "name": "#%%\n"
    }
   }
  },
  {
   "cell_type": "markdown",
   "source": [
    "It should display something like:\n",
    "\n",
    "`/home/manager/course_data/assembly/data`\n",
    "\n",
    "So, we have done Pacbio and Illumina sequencing, and made a genome assembly - now what do we do? In many cases, researchers have previously performed\n",
    " assemblies of a model organism, but these assemblies may be imperfect due to various factors. Our goal here is to\n",
    " determine how our reference genome compares to a previous reference genome.\n",
    "\n",
    "**Question:** Based on your work during the previous assembly module, can you think of a reason why assembly might not be perfect?"
   ],
   "metadata": {
    "collapsed": false
   }
  },
  {
   "cell_type": "markdown",
   "source": [
    "## Set Up\n",
    "\n",
    "We have already placed a copy of the assembly that you performed yesterday into your current working directory:\n",
    "\n",
    "Do the following command to ensure that it is present:"
   ],
   "metadata": {
    "collapsed": false
   }
  },
  {
   "cell_type": "code",
   "execution_count": null,
   "outputs": [],
   "source": [
    "ls PB.contigs.polished.fasta"
   ],
   "metadata": {
    "collapsed": false,
    "pycharm": {
     "name": "#%%\n"
    }
   }
  },
  {
   "cell_type": "markdown",
   "source": [
    "We first need to convert the header of this file to something that is easier for our tools to read:"
   ],
   "metadata": {
    "collapsed": false
   }
  },
  {
   "cell_type": "code",
   "execution_count": null,
   "outputs": [],
   "source": [
    "{ echo \">tig00000001\"; tail -n+2 PB.contigs.polished.fasta; } > PB.contigs.polished.reheader.fasta\n"
   ],
   "metadata": {
    "collapsed": false,
    "pycharm": {
     "name": "#%%\n"
    }
   }
  },
  {
   "cell_type": "markdown",
   "source": [
    "You can then run the following command to make sure that you have performed the formatting correctly:"
   ],
   "metadata": {
    "collapsed": false,
    "pycharm": {
     "name": "#%% md\n"
    }
   }
  },
  {
   "cell_type": "code",
   "execution_count": null,
   "outputs": [],
   "source": [
    "head PB.contigs.polished.reheader.fasta"
   ],
   "metadata": {
    "collapsed": false,
    "pycharm": {
     "name": "#%%\n"
    }
   }
  },
  {
   "cell_type": "markdown",
   "source": [
    "should return something similar to:\n",
    "\n",
    "    >tig00000001\n",
    "    TCTTATCTTCTTACTCTTATCTTCTTACTTTTCATTTCTTAGTCTTACTTTCTTCTTCTT\n",
    "    ATCTTCTTACTGTTATCTTCTTACTTTTCATTCCTTACTCTTACTTACTTACTCTTATCT\n",
    "    TCTTACTTTTCATTCCTTAGTCTTACTTACTTACTCTTACTTTCTTCTTCTTATCTTCTT\n",
    "    ACTCTTATCTTCTTACTTTTCATTACTTAGTCTTACTTACTTACTCTTACTTACTTACTC\n",
    "    TTATCTTCTTACTTTTCATTCCTTACTCTTACTTACTTACTCTTATCTTCTTACTTTTCA\n",
    "    TTCCTTACTCTTACTTTCTTCTTCTTAGGTCCTTACTTTTAACTTCTTATTCTTACTTTC\n",
    "    TTACTCTTACGTCCTTACTCTTACTTACTTACTCTTATCTTCTTACTTTTCATTCCTTAC\n",
    "    TTTTCATTCCTTACTTTTCATTTCTTCATCTTATCTTCTTACTTTTCATTCCTTACTCTT\n",
    "    ACTTACTTACTCTTATCTTCTTACTTTTCATTTCTTAATCATATATTCTTACTCATATAC\n",
    "\n",
    "Now index this file so that we can use it for other parts of this practical:"
   ],
   "metadata": {
    "collapsed": false
   }
  },
  {
   "cell_type": "code",
   "execution_count": null,
   "outputs": [],
   "source": [
    "samtools faidx PB.contigs.polished.reheader.fasta"
   ],
   "metadata": {
    "collapsed": false,
    "pycharm": {
     "name": "#%%\n"
    }
   }
  },
  {
   "cell_type": "markdown",
   "source": [
    "If these commands did not work, there is a copy of `PB.contigs.polished.reheader.fasta` in `annotation_backups/`."
   ],
   "metadata": {
    "collapsed": false
   }
  },
  {
   "cell_type": "markdown",
   "source": [
    "## Visually Comparing Assemblies\n",
    "\n",
    "Since we know from the Genome Assembly practical that our assembly was generated from sequencing chromosome 5 of a\n",
    "_P. falciparum_ isolate, we can compare our results to a previously assembled version of the _P. falciparum_ genome. We\n",
    "have pre-downloaded a version of the current _P. falciparum_ reference genome from [PlasmoDB](https://plasmodb.org) that only contains chromosome 5 and\n",
    "placed it in your current directory. Run the following command to see what the first 10 lines of the file look like."
   ],
   "metadata": {
    "collapsed": false
   }
  },
  {
   "cell_type": "code",
   "execution_count": null,
   "outputs": [],
   "source": [
    "head Pfalc_chr5_ref.fa"
   ],
   "metadata": {
    "collapsed": false,
    "pycharm": {
     "name": "#%%\n"
    }
   }
  },
  {
   "cell_type": "markdown",
   "source": [
    "This should look similar to your own file that you assembled yesterday.\n",
    "\n",
    "Next, we are going to use the tool `mummer` to align our assembly to the reference sequence of _P. falciparum_. Mummer\n",
    "was developed to align entire bacterial genomes and is available on both [github](https://github.com/mummer4/mummer) and\n",
    "through bioconda. We can align our assembly to the _P. falciparum_ reference with the following command:"
   ],
   "metadata": {
    "collapsed": false
   }
  },
  {
   "cell_type": "code",
   "execution_count": null,
   "outputs": [],
   "source": [
    "nucmer -p aln Pfalc_chr5_ref.fa PB.contigs.polished.reheader.fasta"
   ],
   "metadata": {
    "collapsed": false,
    "pycharm": {
     "name": "#%%\n"
    }
   }
  },
  {
   "cell_type": "markdown",
   "source": [
    "This will generate the file \"aln.delta\". This file contains information on how the two reference genomes align, but is a\n",
    " difficult to interpret. Let's generate something that is a bit more human-readable:"
   ],
   "metadata": {
    "collapsed": false
   }
  },
  {
   "cell_type": "code",
   "execution_count": null,
   "outputs": [],
   "source": [
    "show-coords aln.delta > aln.coords"
   ],
   "metadata": {
    "collapsed": false,
    "pycharm": {
     "name": "#%%\n"
    }
   }
  },
  {
   "cell_type": "markdown",
   "source": [
    "Let's take a look at the output of `show-coords` to see if we can learn anything. Run the following command:"
   ],
   "metadata": {
    "collapsed": false
   }
  },
  {
   "cell_type": "code",
   "execution_count": null,
   "outputs": [],
   "source": [
    "head aln.coords"
   ],
   "metadata": {
    "collapsed": false,
    "pycharm": {
     "name": "#%%\n"
    }
   }
  },
  {
   "cell_type": "markdown",
   "source": [
    "You should see a table of information like this:\n",
    "\n",
    "       [S1]     [E1] |   [S2]     [E2] | [LEN 1] [LEN 2] | [% IDY] | [TAGS]\n",
    "    =====================================================================================\n",
    "           1  236439 |       7  236291 |  236439  236285 |   99.87 | PfIT_05\ttig00000001\n",
    "      136356  136443 | 1031955 1031868 |      88      88 |   95.45 | PfIT_05\ttig00000001\n",
    "      136376  136448 |  423822  423750 |      73      73 |  100.00 | PfIT_05\ttig00000001\n",
    "      136376  136447 |  782656  782585 |      72      72 |  100.00 | PfIT_05\ttig00000001\n",
    "      136377  136445 |  862797  862729 |      69      69 |  100.00 | PfIT_05\ttig00000001\n",
    "\n",
    "The S1 and E1 columns represent the START and END coordinates in the sequence of the genome that you aligned to\n",
    "(so the original Malaria reference genome) and S2 and E2 represent the START and END coordinates in the sequence\n",
    "of your assembly (named tig00000001). LEN1 and LEN2 represent the length of the aligned segments and % IDY is how well\n",
    "the two sequences match. So a % IDY of 100 means that the aligned segments match perfectly.\n",
    "\n",
    "Now, lets use `mummerplot` to visualise this result to better understand what these alignments mean:"
   ],
   "metadata": {
    "collapsed": false
   }
  },
  {
   "cell_type": "code",
   "execution_count": null,
   "outputs": [],
   "source": [
    "mummerplot -l aln.delta --png"
   ],
   "metadata": {
    "collapsed": false,
    "pycharm": {
     "name": "#%%\n"
    }
   }
  },
  {
   "cell_type": "markdown",
   "source": [
    "We can look at the resulting plot using the default image viewer on your virtual machine:"
   ],
   "metadata": {
    "collapsed": false
   }
  },
  {
   "cell_type": "code",
   "execution_count": null,
   "outputs": [],
   "source": [
    "eog out.png"
   ],
   "metadata": {
    "collapsed": false,
    "pycharm": {
     "name": "#%%\n"
    }
   }
  },
  {
   "cell_type": "markdown",
   "source": [
    "This should give an image like the following:\n",
    "\n",
    "![](images/MUMMER_1.png)\n",
    "\n",
    "The y-axis is our pacbio assembly ordered from position 1 (the bottom) to position ~1,200,000 (the top). The reference\n",
    "_P. falciparum_ genome is on the x-axis. Each place where the two sequences align perfectly is represented by a purple\n",
    "line. You can see that this line is right in the middle of the plot, which means that base 10,000 of our assembly is the same\n",
    "as base 10,000 of the reference, base 40,000 of our assembly is the same as base 40,000 in the reference, and so on. We\n",
    "did a good job with our assembly compared to the reference genome!\n",
    "\n",
    "The blue dots relate to parts of each genome that align multiple times. In other words, each blue dot is a \"repeat\" in\n",
    "our assembly which matches the reference more than once.\n",
    "\n",
    "**Questions**:\n",
    "\n",
    "1. Is there an obvious issue with our assembly?\n",
    "\n",
    ">_hint: look at the upper right corner of the plot_\n",
    "\n",
    "2. Why do you think both ends of the reference genome align to the same part of our assembled genome?\n",
    "\n",
    ">_hint: think about the structure of a chromosome and look at the lower right corner of the plot_\n",
    "\n",
    "Here is another example of a mummerplot comparing assemblies between two different isolates of the bacteria H. pylori\n",
    "from the mummer tutorial website:\n",
    "\n",
    "![](images/MUMMER_2.png)\n",
    "\n",
    "**Questions**:\n",
    "\n",
    "1. What do you think the green segments represent in this image?\n",
    "2. Why is the red line not centered in the plot and moves up or down?\n",
    "\n",
    "Now you can move on to [Repetitive DNA](repetitive_dna.ipynb)."
   ],
   "metadata": {
    "collapsed": false,
    "pycharm": {
     "name": "#%% md\n"
    }
   }
  }
 ],
 "metadata": {
  "kernelspec": {
   "display_name": "Python 3",
   "language": "python",
   "name": "python3"
  },
  "language_info": {
   "codemirror_mode": {
    "name": "ipython",
    "version": 2
   },
   "file_extension": ".py",
   "mimetype": "text/x-python",
   "name": "python",
   "nbconvert_exporter": "python",
   "pygments_lexer": "ipython2",
   "version": "2.7.6"
  }
 },
 "nbformat": 4,
 "nbformat_minor": 0
}