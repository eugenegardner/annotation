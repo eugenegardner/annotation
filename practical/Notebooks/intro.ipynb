{
 "cells": [
  {
   "cell_type": "markdown",
   "source": [
    "# Genome Annotation\n",
    "\n",
    "## Introduction\n",
    "\n",
    "During the last practical assignment (Genome Assembly), we generated an assembly of chromosome 5 of the eukaryotic intracellular parasite\n",
    "_Plasmodium falciparum_. Today we are going to use our assembly to learn about how to compare different genome assembly versions and\n",
    "identify sequences that may have some biological function. This process is known as \"Genome Annotation\" and is\n",
    "graphically represented below:\n",
    "\n",
    "![](images/intro_schematic.png)\n",
    "\n",
    "Genome Annotation is about taking a raw assembled genome (top; like the one you created in the \"Assembly\" module) and\n",
    "annotating it with features that biologists are interested in (bottom). While we will not be annotating all the features outlined\n",
    "above today, this schematic should give you a general ideal of what this practical is about."
   ],
   "metadata": {
    "collapsed": false,
    "pycharm": {
     "name": "#%% md\n"
    }
   }
  },
  {
   "cell_type": "markdown",
   "source": [
    "## Learning Outcomes\n",
    "\n",
    "On completion of the tutorial, you can expect to be able to:\n",
    "\n",
    "* Align two different reference genome assemblies against one another.\n",
    "* Identify repetitive DNA sequences.\n",
    "* Align RNA-seq data to an assembly and use it to identify genes.\n",
    "* Use comparative genomics to identify similar proteins in other organisms."
   ],
   "metadata": {
    "collapsed": false
   }
  },
  {
   "cell_type": "markdown",
   "source": [
    "## Tutorial sections\n",
    "\n",
    "This tutorial comprises the following sections:\n",
    "\n",
    "1. [Comparing Reference Genomes](reference_alignment.ipynb)\n",
    "2. [Identifying repetitive DNA](repetitive_dna.ipynb)\n",
    "3. [Gene Discovery](gene_discovery.ipynb)\n",
    "4. [Gene Annotation using Comparative Genomics](comparative_genomics.ipynb)"
   ],
   "metadata": {
    "collapsed": false
   }
  },
  {
   "cell_type": "markdown",
   "source": [
    "## Authors\n",
    "\n",
    "This tutorial was written by [Eugene Gardner](https://github.com/eugenegardner)."
   ],
   "metadata": {
    "collapsed": false
   }
  },
  {
   "cell_type": "markdown",
   "source": [
    "## Running the commands from this tutorial\n",
    "\n",
    "You can follow this tutorial by typing all the commands you see into a terminal window. This is similar to the “Command Prompt” window on MS Windows systems, which allows the user to type DOS commands to manage files.\n",
    "\n",
    "To get started, open a new terminal window and type the command below:"
   ],
   "metadata": {
    "collapsed": false
   }
  },
  {
   "cell_type": "code",
   "execution_count": null,
   "outputs": [],
   "source": [
    "cd ~/course_data/annotation/data"
   ],
   "metadata": {
    "collapsed": false,
    "pycharm": {
     "name": "#%%\n"
    }
   }
  },
  {
   "cell_type": "markdown",
   "source": [
    "## Let's get started!\n",
    "\n",
    "This tutorial requires that you have mummer, RepeatMasker, hisat2, samtools, augustus, and GenomeThreader installed\n",
    "on your computer. These are already installed on the virtual machine you are using. To check that these are installed,\n",
    "run the following commands:"
   ],
   "metadata": {
    "collapsed": false,
    "pycharm": {
     "name": "#%% md\n"
    }
   }
  },
  {
   "cell_type": "code",
   "execution_count": null,
   "outputs": [],
   "source": [
    "nucmer\n",
    "RepeatMasker\n",
    "hisat2\n",
    "samtools\n",
    "augustus\n",
    "gth"
   ],
   "metadata": {
    "collapsed": false,
    "pycharm": {
     "name": "#%%\n"
    }
   }
  },
  {
   "cell_type": "markdown",
   "source": [
    "This should return the help message for each of these programs. If you want to install this software yourself, please see the software websites:\n",
    "\n",
    "* the [mummer](https://github.com/mummer4/mummer) website\n",
    "* the [RepeatMasker](https://www.repeatmasker.org/) website\n",
    "* the [hisat2](http://daehwankimlab.github.io/hisat2/) website\n",
    "* the [samtools](http://www.htslib.org/) website\n",
    "* the [augustus](https://github.com/Gaius-Augustus/Augustus) website\n",
    "* the [GenomeThreader](https://genomethreader.org/) website\n",
    "\n",
    "We also need to add custom scripts to our PATH environmental variable so that we can run them easily from the command-line. Run the following command:"
   ],
   "metadata": {
    "collapsed": false
   }
  },
  {
   "cell_type": "code",
   "execution_count": null,
   "outputs": [],
   "source": [
    "export PATH=/home/manager/course_data/annotation/scripts/:$PATH"
   ],
   "metadata": {
    "collapsed": false,
    "pycharm": {
     "name": "#%%\n"
    }
   }
  },
  {
   "cell_type": "markdown",
   "source": [
    "Now lets check that you can run the scripts we just added to the path:"
   ],
   "metadata": {
    "collapsed": false
   }
  },
  {
   "cell_type": "code",
   "execution_count": null,
   "outputs": [],
   "source": [
    "computeFlankingRegion.pl\n",
    "augustus"
   ],
   "metadata": {
    "collapsed": false,
    "pycharm": {
     "name": "#%%\n"
    }
   }
  },
  {
   "cell_type": "markdown",
   "source": [
    "Both of these commands should return help information for each program. If you get an error, close your terminal and\n",
    "restart this tutorial.\n",
    "\n",
    "Once you have confirmed that you can run all of the above commands, proceed to\n",
    "[Comparing Reference Genomes](reference_alignment.ipynb)."
   ],
   "metadata": {
    "collapsed": false
   }
  }
 ],
 "metadata": {
  "kernelspec": {
   "display_name": "Python 3",
   "language": "python",
   "name": "python3"
  },
  "language_info": {
   "codemirror_mode": {
    "name": "ipython",
    "version": 2
   },
   "file_extension": ".py",
   "mimetype": "text/x-python",
   "name": "python",
   "nbconvert_exporter": "python",
   "pygments_lexer": "ipython2",
   "version": "2.7.6"
  }
 },
 "nbformat": 4,
 "nbformat_minor": 0
}