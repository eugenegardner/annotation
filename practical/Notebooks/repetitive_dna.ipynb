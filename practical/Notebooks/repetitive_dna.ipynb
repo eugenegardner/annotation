{
 "cells": [
  {
   "cell_type": "markdown",
   "metadata": {
    "collapsed": true,
    "pycharm": {
     "name": "#%% md\n"
    }
   },
   "source": [
    "# Identifying Repetitive DNA\n",
    "\n",
    "During our previous tutorial on Genome Assembly, we briefly discussed the problem of repetitive DNA. In the context of\n",
    "genome assembly, repetitive DNA makes it difficult to piece together separate \"fragments\" to form an entire assembled\n",
    "genome. In this tutorial, we present repetitive DNA as both a problem and as an interesting biological question."
   ]
  },
  {
   "cell_type": "markdown",
   "source": [
    "## Repetitive DNA\n",
    "\n",
    "Repetitive DNA comes in many forms. The simplest are long stretches of identical sequence:\n",
    "\n",
    "    ATGAGATGACAAAAAAAAAAAAAAAGAGCTGCAGTCCATG\n",
    "\n",
    "Here, the \"repeat\" is a long stretch of adenine nucleotides. However, repetitive DNA can also be more complex:\n",
    "\n",
    "    ATGAGATGACAGAGAGAGAGAGAGAGAGCTGCAGTCCATG\n",
    "\n",
    "In this case, the repeat is now a two base-pair \"unit\" of adenine and guanine (AG). We can further increase the complexity:\n",
    "\n",
    "    TTTAGGGTTCAGGGTTTAGGGTTTAGGGTTCAGGGCTGCAGTCCATG\n",
    "\n",
    "In this case, the repetitive unit is `TT(T/C)AGGG`, where `(T/C)` means that the 3rd base in the repeat can be *either*\n",
    "thymine or cytosine. This particular repeat is very important biologically - it is the repeat at the ends of all\n",
    "_P. falciparum_ chromosomes, or telomeres. You have already seen how telomeres can affect the ability of researchers to\n",
    "properly assemble entire genomes in the previous section of this tutorial.\n",
    "\n",
    "Additionally, some repeats are formed of much larger units and are known as transposons. These are pieces of DNA that\n",
    "can \"jump\" around the genome and make new copies of themselves. Transposons can be many thousands of basepairs long. In _Homo sapiens_,\n",
    "there are three types of transposons which can still \"jump\": Alu, LINE-1, and SVA. _P. falciparum_, and in fact all other\n",
    "Apicomplexans, mostly lack transposons, so we do not have to worry about them as part of this practical. If you want to\n",
    "read more on tranposons, this paper is a great place to start:\n",
    "\n",
    "Henry L. Levin and John V. Moran. _**Dynamic interactions between transposable elements and their hosts**_. Nature Reviews Genetics (2011).\n",
    "\n",
    "Please note that this section is not an exhaustive list of all possible DNA repeats. For further reading on\n",
    "how repetitive DNA can effect genome assembly and annotation, a good place to start is:\n",
    "\n",
    "Todd J. Treangen and Steven L. Salzberg. _**Repetitive DNA and next-generation sequencing: computational challenges and solutions**_. Nature Reviews Genetics (2011)."
   ],
   "metadata": {
    "collapsed": false
   }
  },
  {
   "cell_type": "markdown",
   "source": [
    "## Exercise\n",
    "\n",
    "Here is a piece of DNA from _P. falciparum_. Can you identify repetitive DNA sequences that are longer than 5 base pairs in this sequence?\n",
    "\n",
    "    TATAAATACAATATAATATAACGACGAACAGATATGAAAGTGTTAGAACTAGACATACCA\n",
    "    TTTTTCTGTGAAAAATACTTCAAGCTGTAGTATTATTATTATTGCGCTGCTTAGATGTAGT\n",
    "\n",
    "**Question:** Can you think of any problems that a Malaria genome may cause when searching for repeats?\n",
    "\n",
    "> _hint: look at part 5 from the \"Genome Assembly\" tutorial_"
   ],
   "metadata": {
    "collapsed": false
   }
  },
  {
   "cell_type": "markdown",
   "source": [
    "## Masking a Genome\n",
    "\n",
    "The most widely used approach to identify repetitive DNA is called \"RepeatMasker\". Arian Smit _et al._ developed the\n",
    "RepeatMasker algorithm in the 1990s to identify repeats in the large amount of sequencing data that was being produced\n",
    "at the time. RepeatMasker utilizes a statistical method known as a \"Hidden Markov Model\" or HMM to accurately identify\n",
    "repetitive DNA. The methodology behind HMMs is beyond the scope of this course, but if you want to learn more\n",
    "[this website](https://towardsdatascience.com/hidden-markov-model-hmm-simple-explanation-in-high-level-b8722fa1a0d5) is\n",
    "a good, simple introduction.\n",
    "\n",
    "Before we can perform annotation, we now need to identify repetitive DNA that may confuse the tools we will use later\n",
    "today. To do this, we will use the RepeatMasker tool discussed above. RepeatMasker is preinstalled on your VM, but is\n",
    "available [online](https://www.repeatmasker.org/).\n",
    "\n",
    "Here, we are going to run \"RepeatMasker\" to \"mask\" our assembled genome. In the case of genome annotation, to \"mask\"\n",
    "simply means to identify repetitive DNA. In this tutorial, we are going to change any letter in our genome fasta file from\n",
    "`UPPER CASE` to `lower case` where we think there is a repeat. This allows programs like \"Augustus\" (which we will use\n",
    "later) to identify DNA repeats and avoid them if necessary.\n",
    "\n",
    "To run RepeatMasker, just do:"
   ],
   "metadata": {
    "collapsed": false
   }
  },
  {
   "cell_type": "code",
   "source": [
    "RepeatMasker -species plasmodium -xsmall PB.contigs.polished.reheader.fasta"
   ],
   "metadata": {
    "collapsed": false,
    "pycharm": {
     "name": "#%%\n"
    }
   },
   "execution_count": null,
   "outputs": []
  },
  {
   "cell_type": "markdown",
   "source": [
    "* `-species plasmodium` tells RepeatMasker to use a HMM trained on _Plasmodium_ species.\n",
    "* `-xsmall` tells RepeatMasker to write lower case letters of masked sequences.\n",
    "\n",
    "This command should take a few minutes and generate three files. You can see them with the following command:"
   ],
   "metadata": {
    "collapsed": false
   }
  },
  {
   "cell_type": "code",
   "execution_count": null,
   "outputs": [],
   "source": [
    "ls PB.contigs.polished.reheader.fasta.*"
   ],
   "metadata": {
    "collapsed": false,
    "pycharm": {
     "name": "#%%\n"
    }
   }
  },
  {
   "cell_type": "markdown",
   "source": [
    "which should return something like:\n",
    "\n",
    "    PB.contigs.polished.reheader.fasta.masked\n",
    "    PB.contigs.polished.reheader.fasta.out\n",
    "    PB.contigs.polished.reheader.fasta.tbl\n",
    "    PB.contigs.polished.reheader.fasta.cat\n",
    "    PB.contigs.polished.reheader.fasta.fai\n",
    "\n",
    "We already know what `PB.contigs.polished.reheader.fasta.fai` is. The new files are:\n",
    "\n",
    "* `PB.contigs.polished.reheader.fasta.out` contains an extensive list of all the repeats \"masked\" in our assembled\n",
    "genome\n",
    "* `PB.contigs.polished.reheader.fasta.masked` is the exact same as `PB.contigs.polished.reheader.fasta` except\n",
    "with all of those repeats in lower-case letters.\n",
    "* `PB.contigs.polished.reheader.fasta.tbl` contains more specific\n",
    "information and numbers on what was masked.\n",
    "* `PB.contigs.polished.reheader.fasta.cat` contains actual reports of _all_ repeat sequences found by RepeatMasker\n",
    "\n",
    "Look at the contents of `PB.contigs.polished.reheader.fasta.tbl` to answer the following questions (use `more`, `less`\n",
    "or `cat`):\n",
    "\n",
    "**Questions:**\n",
    "\n",
    "1. Why do the sections \"Retroelements\" and \"DNA transposons\" all have zeros?\n",
    "2. Approximately what proportion of our genome assembly was masked?\n",
    "\n",
    "Now let's rename `PB.contigs.polished.reheader.fasta.masked` to a shorter name to make it easier to use later:"
   ],
   "metadata": {
    "collapsed": false,
    "pycharm": {
     "name": "#%% md\n"
    }
   }
  },
  {
   "cell_type": "code",
   "source": [
    "mv PB.contigs.polished.reheader.fasta.masked PB.masked.fasta"
   ],
   "metadata": {
    "collapsed": false,
    "pycharm": {
     "name": "#%%\n"
    }
   },
   "execution_count": null,
   "outputs": []
  },
  {
   "cell_type": "markdown",
   "source": [
    "and then index it:"
   ],
   "metadata": {
    "collapsed": false
   }
  },
  {
   "cell_type": "code",
   "source": [
    "samtools faidx PB.masked.fasta"
   ],
   "metadata": {
    "collapsed": false,
    "pycharm": {
     "name": "#%%\n"
    }
   },
   "execution_count": null,
   "outputs": []
  },
  {
   "cell_type": "markdown",
   "source": [
    "If RepeatMasker did not work properly or took too long to run, we have placed a backup masked genome at:\n",
    "\n",
    "`annotation_backups/PB.masked.fasta`\n",
    "\n",
    "Once you have masked your genome, move on to [Gene Discovery](gene_discovery.ipynb)"
   ],
   "metadata": {
    "collapsed": false
   }
  }
 ],
 "metadata": {
  "kernelspec": {
   "display_name": "Python 3",
   "language": "python",
   "name": "python3"
  },
  "language_info": {
   "codemirror_mode": {
    "name": "ipython",
    "version": 2
   },
   "file_extension": ".py",
   "mimetype": "text/x-python",
   "name": "python",
   "nbconvert_exporter": "python",
   "pygments_lexer": "ipython2",
   "version": "2.7.6"
  }
 },
 "nbformat": 4,
 "nbformat_minor": 0
}