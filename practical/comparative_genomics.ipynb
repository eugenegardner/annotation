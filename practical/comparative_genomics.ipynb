{
 "cells": [
  {
   "cell_type": "markdown",
   "metadata": {
    "collapsed": true,
    "pycharm": {
     "name": "#%% md\n"
    }
   },
   "source": [
    "\n",
    "# Using Comparative Genomics to Identify Genes\n",
    "\n",
    "We have predicted some genes, but what does this actually do for us? Biologically, we want to assign a function\n",
    "to genes so that we can try to understand what they are doing. Now, we are going to use the second approach outlined\n",
    "at the beginning of section 4 to both identify genes and attempt to assign a biological function to them.\n",
    "\n",
    "In the previous section, we identified genes on one chromosome of _P. falciparum_. _P. falciparum_ has been extensively\n",
    "studied, and a large proportion of the genes in its genome have been assigned some function. However, lets pretend\n",
    "that the genes we just identified are from a new exciting organism that we just sequenced, and we want to find out a\n",
    "potential function for these genes. In many cases, an organism that is relatively closely related to the one that we\n",
    "are interested in has already been sequenced, and gene discovery as outlined above has already been performed. Here is\n",
    "a phylogenetic tree of different _Plasmodium_ species from the paper:\n",
    "\n",
    "M. Andreina Pacheco et. al. _**Malarial parasite diversity in chimpanzees: The value of comparative approaches to ascertain the evolution of Plasmodium falciparum antigens**_. Malaria Journal (2013).\n",
    "\n",
    "![](images/comparative_1.png)\n",
    "\n",
    "As shown by this figure, there are several closely related species to _P. falciparum_, of which many have been sequenced.\n",
    "Today, we are going to use genes identified in the Chimpanzee parasite, _P. reichenowi_, to train Augustus as we did above."
   ]
  },
  {
   "cell_type": "markdown",
   "source": [
    "## Exercise\n",
    "\n",
    "To identify genes in our assembly based on genes from _P. reichenowi_, we first have to align _P. reichenowi_ genes to our\n",
    "assembly. To do this, we use the protein sequence of _P. reichenowi_ genes and *not* the nucleotide sequence. This is\n",
    "because the amino acid code is \"degenerate\" and different sets of 3 nucleotides, or a codon, can encode for the same\n",
    "protein as below:\n",
    "\n",
    "![](images/comparative_2.jpg)\n",
    "\n",
    "In this chart, the first base of a codon is in the innermost circle, the second base in the next circle, and the final\n",
    "base in the last circle. In other words, working inside out, TGC codes for the amino acid Cysteine. This chart also\n",
    "demonstrates how the amino acid code is \"degenerate\". For example, the amino acid threonine can be coded by four\n",
    "different codons: ACA, ACT, ACG, or ACC.\n",
    "\n",
    "This means that closely related organisms can have different nucleotide sequence, but still have the same amino acid\n",
    "sequence. In the image below, eventhough _P. falciparum_ has an \"A\" at position 9 but _P. reichenowi_ has a \"G\", both\n",
    "species proteins have a threonine amino acid as the third residue:\n",
    "\n",
    "![](images/comparative_3.png)\n",
    "\n",
    "As such, if we use the amino acid sequence of _P. reichenowi_ genes to align to our _P. falciparum_ assembly instead of the\n",
    "DNA sequence, we have more room for error since an amino acid can match multiple nucleotides.\n",
    "\n",
    "**Questions:**\n",
    "\n",
    "1. Using the codon chart above, can you align the following amino acid sequence to the nucleotide sequence below (just\n",
    "label the amino acids above the matching base)?\n",
    "2. What was difficult about this alignment?\n",
    "3. Did you notice something at the end of your alignment?\n",
    "\n",
    "![](images/comparative_activity_1.png)\n",
    "\n",
    "Now, let's try this again, but with a slightly more challenging alignment:\n",
    "\n",
    "![](images/comparative_activity_2.png)\n",
    "\n",
    "**Questions:**\n",
    "\n",
    "1. What was difficult in this example?\n",
    "2. Do you think this is an issue, or is there something biology-related going on?"
   ],
   "metadata": {
    "collapsed": false,
    "pycharm": {
     "name": "#%% md\n"
    }
   }
  },
  {
   "cell_type": "markdown",
   "source": [
    "## GenomeThreader\n",
    "\n",
    "While our exercise above was on a very short amino acid sequence, we need a tool which can perform this basic task for\n",
    " all genes in the _P. reichenowi_ genome across our entire _P. falciparum_ assembly. To do this, we are going to use the tool\n",
    " \"GenomeThreader\". GenomeThreader is available [online](https://genomethreader.org/) and via bioconda.\n",
    "\n",
    "To prepare for this exercise, we have already downloaded all _P. reichenowi_ genes from\n",
    "[PlasmoDB](https://plasmodb.org/plasmo/app/) and filtered them to genes that will only align to your assembly to\n",
    "save time. Let's take a look at this file:"
   ],
   "metadata": {
    "collapsed": false,
    "pycharm": {
     "name": "#%% md\n"
    }
   }
  },
  {
   "cell_type": "code",
   "source": [
    "head -n 19 Preichenowi.prot.fa"
   ],
   "metadata": {
    "collapsed": false,
    "pycharm": {
     "name": "#%%\n"
    }
   },
   "execution_count": null,
   "outputs": []
  },
  {
   "cell_type": "markdown",
   "source": [
    "This command will show you the first 19 lines of this file. You will notice that this file appears similar to the\n",
    " previous .fasta or .fa files that you have looked at, but now includes more letters. These are the\n",
    " [IUPAC amino acid codes](https://www.bioinformatics.org/sms/iupac.html), and are used to represent all 20 possible\n",
    " amino acids.\n",
    "\n",
    "If you take a closer look at this file, you may notice the character `*`.\n",
    "\n",
    "**Question:** What do you think the `*` character represents?\n",
    "\n",
    "Now, we are going to use GenomeThreader (via the `gth` command) to align these proteins to your assembly."
   ],
   "metadata": {
    "collapsed": false
   }
  },
  {
   "cell_type": "code",
   "source": [
    "gth -genomic PB.masked.fasta -protein Preichenowi.chr5.prot.fa -gff3out -skipalignmentout -paralogs -gcmincoverage 80 -prseedlength 20 -prminmatchlen 20 -prhdist 2 -o gth.gff3 -finalstopcodon"
   ],
   "metadata": {
    "collapsed": false,
    "pycharm": {
     "name": "#%%\n"
    }
   },
   "execution_count": null,
   "outputs": []
  },
  {
   "cell_type": "markdown",
   "source": [
    "The options above tell genomethreader to:\n",
    "\n",
    "* `-gff3out`: print [gff3](https://m.ensembl.org/info/website/upload/gff3.html) format output (the file `gth.gff3`)\n",
    "* `-skipalignmentout`: Do not print anything other than gff3\n",
    "* `-paralogs`: Allow the protein sequence to match multiple times to our assembly to find genes that are closely related, i.e. paralogs.\n",
    "* `-gcmincoverage 80`: Report only proteins which match AT LEAST 80% of our assembly\n",
    "* `-prseedlength 20`, `-prminmatchlen 20`, and `-prhdist 2`: Deal with the minimum initial match allowed in the \"seed\" of the alignment.\n",
    "* `-finalstopcodon`: ensures that each gene is annotated with a \"stop\".\n",
    "\n",
    "This command should take a minute or two to run. If it does not complete or takes too long, you can find a copy of the output in `annotation_backups/`\n",
    "\n",
    "This file can also be used as the input to Augustus to find genes like we did above. We don't have enough time today,\n",
    "but feel free to come back and give it a try! If you want to try, start at section 4.3 with the\n",
    "commands, and proceed through the tutorial from there:"
   ],
   "metadata": {
    "collapsed": false
   }
  },
  {
   "cell_type": "code",
   "execution_count": null,
   "outputs": [],
   "source": [
    "gth2gtf.pl gth.gff3 bonafide.gth.gtf\n",
    "\n",
    "computeFlankingRegion.pl bonafide.gth.gtf"
   ],
   "metadata": {
    "collapsed": false,
    "pycharm": {
     "name": "#%%\n"
    }
   }
  },
  {
   "cell_type": "markdown",
   "source": [
    "## Examining Results in IGV\n",
    "\n",
    "Now that we have aligned our proteins to our genome assembly, return to IGV to see if we can learn anything else about\n",
    "that gene we highlighted at the end of section 4.6. If you closed IGV, see section 4.6 on how to load your data again.\n",
    "\n",
    "Now, let's load your new gene \"annotation\" information generated by GenomeThreader into IGV:\n",
    "\n",
    "**Go to _\"File -> Load From File\"_. Select \"gth.gff3\" and click _\"Open\"_.**\n",
    "\n",
    "Now, return to the gene that we previously examined at the end of section 4.6 by going to the coordinates:\n",
    "\n",
    "    tig00000001:165,000-171,500\n",
    "\n",
    "Now, you should see an additional model below your original gene predictions. It should be named something like\n",
    "\"mRNA21\" - this doesn't seem very informative! However, if we click the gene model, we should see an image like the\n",
    "following:\n",
    "\n",
    "![](images/comparative_4.png)\n",
    "\n",
    "The \"Target\" column tells us the original name of the gene in _P. reichenowi_ that we aligned to our assembly. Now, we\n",
    "are going to use a web resource to figure out what this gene does. On your desktop click the \"Firefox\" emblem:\n",
    "\n",
    "![](images/comparative_5.png)\n",
    "\n",
    "Once firefox has loaded, go to the website:\n",
    "\n",
    "https://plasmodb.org\n",
    "\n",
    "Being able to query online sequence resources and databases such as PlasmoDB is an important skill. PlasmoDB contains\n",
    "sequencing data, protein information, and more for a large number of _Plasmodium_ species. To prepeare this course for you,\n",
    "we used a large number of resources from PlasmoDB. PlasmoDB is part of a larger database, VEuPathDB, which documents a\n",
    "wide range of eukaryotic parasites such as _P. falciparum_. While we will only briefly go into PlasmoDB today, we highly\n",
    "recommend you familiarize yourself with tools such as PlasmoDB. Other fantastic resources include the\n",
    "[UCSC genome browser](https://genome.ucsc.edu/) and [Ensembl](https://www.ensembl.org/index.html) which are dedicated to\n",
    "providing a wealth of information for hundreds of organisms.\n",
    "\n",
    "Now, in the search bar at the top of PlasmoDB, enter the first part of the gene name we found above:\n",
    "\n",
    "![](images/comparative_6.png)\n",
    "\n",
    "Hit the magnifying glass or \"enter\".\n",
    "\n",
    "**Questions:**\n",
    "\n",
    "1. What is the gene that we identified in IGV?\n",
    "2. Can you name a function of this gene and how did you get the answer?\n",
    "\n",
    "Congratulations, you have reached the end of the Genome Annotation tutorial!"
   ],
   "metadata": {
    "collapsed": false,
    "pycharm": {
     "name": "#%% md\n"
    }
   }
  }
 ],
 "metadata": {
  "kernelspec": {
   "display_name": "Python 3",
   "language": "python",
   "name": "python3"
  },
  "language_info": {
   "codemirror_mode": {
    "name": "ipython",
    "version": 2
   },
   "file_extension": ".py",
   "mimetype": "text/x-python",
   "name": "python",
   "nbconvert_exporter": "python",
   "pygments_lexer": "ipython2",
   "version": "2.7.6"
  }
 },
 "nbformat": 4,
 "nbformat_minor": 0
}